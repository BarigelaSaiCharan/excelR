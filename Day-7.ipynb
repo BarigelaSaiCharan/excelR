{
 "cells": [
  {
   "cell_type": "code",
   "execution_count": 1,
   "id": "c21deed6-5a5b-477e-b5ad-a560d0592d18",
   "metadata": {},
   "outputs": [
    {
     "name": "stdout",
     "output_type": "stream",
     "text": [
      "First 5 rows of the dataset:\n",
      "         Date Product Region    Sales  Profit  Quantity\n",
      "0  2023-01-02  Tablet   East  1061.81  236.12         7\n",
      "1  2023-01-06  Laptop  North  1926.07  246.34         8\n",
      "2  2023-01-03  Tablet   East  1597.99  253.17         3\n",
      "3  2023-01-20  Tablet  North  1397.99  242.23         1\n",
      "4  2023-01-04  Laptop   West   734.03  140.36         4\n",
      "\n",
      "Basic statistics of numerical columns:\n",
      "             Sales      Profit   Quantity\n",
      "count    20.000000   20.000000  20.000000\n",
      "mean   1186.553000  211.533000   5.050000\n",
      "std     461.528444   66.916251   2.543826\n",
      "min     530.880000   82.160000   1.000000\n",
      "25%     774.517500  166.515000   2.750000\n",
      "50%    1104.865000  214.670000   5.000000\n",
      "75%    1571.080000  248.047500   7.250000\n",
      "max    1954.860000  364.970000   9.000000\n"
     ]
    }
   ],
   "source": [
    "import pandas as pd\n",
    "\n",
    "# Sample data for the sales_data.csv\n",
    "data = {\n",
    "    \"Date\": [\n",
    "        \"2023-01-02\", \"2023-01-06\", \"2023-01-03\", \"2023-01-20\", \"2023-01-04\", \n",
    "        \"2023-01-17\", \"2023-01-14\", \"2023-01-07\", \"2023-01-11\", \"2023-01-01\", \n",
    "        \"2023-01-19\", \"2023-01-12\", \"2023-01-09\", \"2023-01-10\", \"2023-01-08\", \n",
    "        \"2023-01-05\", \"2023-01-15\", \"2023-01-18\", \"2023-01-13\", \"2023-01-16\"\n",
    "    ],\n",
    "    \"Product\": [\n",
    "        \"Tablet\", \"Laptop\", \"Tablet\", \"Tablet\", \"Laptop\", \n",
    "        \"Tablet\", \"Keyboard\", \"Smartphone\", \"Smartphone\", \"Laptop\", \n",
    "        \"Monitor\", \"Laptop\", \"Monitor\", \"Smartphone\", \"Laptop\", \n",
    "        \"Keyboard\", \"Tablet\", \"Monitor\", \"Tablet\", \"Tablet\"\n",
    "    ],\n",
    "    \"Region\": [\n",
    "        \"East\", \"North\", \"East\", \"North\", \"West\", \n",
    "        \"North\", \"East\", \"East\", \"West\", \"North\", \n",
    "        \"North\", \"West\", \"North\", \"North\", \"East\", \n",
    "        \"North\", \"North\", \"West\", \"West\", \"South\"\n",
    "    ],\n",
    "    \"Sales\": [\n",
    "        1061.81, 1926.07, 1597.99, 1397.99, 734.03, \n",
    "        733.99, 587.13, 1799.26, 1401.67, 1562.11, \n",
    "        530.88, 1954.86, 1748.66, 818.51, 772.74, \n",
    "        775.11, 956.36, 1287.13, 1147.92, 936.84\n",
    "    ],\n",
    "    \"Profit\": [\n",
    "        236.12, 246.34, 253.17, 242.23, 140.36, \n",
    "        188.66, 82.16, 364.97, 306.24, 170.72, \n",
    "        117.59, 262.16, 197.62, 237.19, 226.51, \n",
    "        202.83, 153.90, 153.86, 271.88, 176.15\n",
    "    ],\n",
    "    \"Quantity\": [\n",
    "        7, 8, 3, 1, 4, \n",
    "        2, 8, 4, 2, 6, \n",
    "        6, 4, 6, 2, 2, \n",
    "        4, 8, 7, 9, 8\n",
    "    ]\n",
    "}\n",
    "\n",
    "# Load data into a DataFrame\n",
    "sales_data = pd.DataFrame(data)\n",
    "\n",
    "# Display the first 5 rows of the dataset\n",
    "print(\"First 5 rows of the dataset:\")\n",
    "print(sales_data.head())\n",
    "\n",
    "# Print basic statistics of the numerical columns\n",
    "print(\"\\nBasic statistics of numerical columns:\")\n",
    "print(sales_data.describe())\n"
   ]
  },
  {
   "cell_type": "code",
   "execution_count": null,
   "id": "987c4705-861f-451c-9e98-95d2f8f370f9",
   "metadata": {},
   "outputs": [],
   "source": []
  }
 ],
 "metadata": {
  "kernelspec": {
   "display_name": "Python [conda env:base] *",
   "language": "python",
   "name": "conda-base-py"
  },
  "language_info": {
   "codemirror_mode": {
    "name": "ipython",
    "version": 3
   },
   "file_extension": ".py",
   "mimetype": "text/x-python",
   "name": "python",
   "nbconvert_exporter": "python",
   "pygments_lexer": "ipython3",
   "version": "3.12.7"
  }
 },
 "nbformat": 4,
 "nbformat_minor": 5
}
